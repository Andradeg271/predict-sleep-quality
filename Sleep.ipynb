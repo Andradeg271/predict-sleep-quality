{
  "nbformat": 4,
  "nbformat_minor": 0,
  "metadata": {
    "colab": {
      "provenance": [],
      "authorship_tag": "ABX9TyM7drP57ridx2hmnpJiSQMO",
      "include_colab_link": true
    },
    "kernelspec": {
      "name": "python3",
      "display_name": "Python 3"
    },
    "language_info": {
      "name": "python"
    }
  },
  "cells": [
    {
      "cell_type": "markdown",
      "metadata": {
        "id": "view-in-github",
        "colab_type": "text"
      },
      "source": [
        "<a href=\"https://colab.research.google.com/github/Andradeg271/predict-sleep-quality/blob/main/Sleep.ipynb\" target=\"_parent\"><img src=\"https://colab.research.google.com/assets/colab-badge.svg\" alt=\"Open In Colab\"/></a>"
      ]
    },
    {
      "cell_type": "markdown",
      "source": [
        "EXECUTE THIS CELL TO CREATE AND TRAIN THE MODEL 🤖"
      ],
      "metadata": {
        "id": "NiEJgF1DgR9n"
      }
    },
    {
      "cell_type": "code",
      "source": [
        "# Import Statements\n",
        "\n",
        "from sklearn.ensemble import RandomForestRegressor\n",
        "from sklearn.pipeline import Pipeline\n",
        "from sklearn.preprocessing import OneHotEncoder,QuantileTransformer\n",
        "from sklearn.model_selection import GridSearchCV\n",
        "import pandas as pd\n",
        "from sklearn.preprocessing import LabelEncoder\n",
        "import matplotlib.pyplot as plt\n",
        "from sklearn.compose import ColumnTransformer\n",
        "from ipywidgets import interact, Dropdown\n",
        "import ipywidgets as widgets\n",
        "\n",
        "\n",
        "\n",
        "# Load the dataset and remove the ID column\n",
        "\n",
        "df = pd.read_csv('sleep_dataset.csv')\n",
        "df.drop('Person ID',axis=1,inplace=True)\n",
        "\n",
        "\n",
        "# Define numerical and categorical columns\n",
        "\n",
        "numeric_col = ['Age','Sleep Duration','Physical Activity Level','Stress Level','Heart Rate','Daily Steps']\n",
        "categorical_col = ['Gender','Occupation','Sleep Disorder','BMI Category']\n",
        "\n",
        "\n",
        "# Set up a column transformer to process the numerical and categorical columns\n",
        "\n",
        "pre_processor = ColumnTransformer(\n",
        "    transformers=[\n",
        "        ('num', QuantileTransformer(n_quantiles=249), numeric_col),\n",
        "        ('cat', OneHotEncoder(handle_unknown='ignore'), categorical_col)\n",
        "    ])\n",
        "\n",
        "\n",
        "# Create a Pipeline\n",
        "\n",
        "pipe = Pipeline([\n",
        "    ('preprocessor', pre_processor),\n",
        "    ('classifier', RandomForestRegressor())\n",
        "])\n",
        "\n",
        "\n",
        "# Create a grid\n",
        "\n",
        "grid = GridSearchCV(\n",
        "    estimator=pipe,\n",
        "    param_grid={\n",
        "        'classifier__n_estimators': [100, 200, 300],\n",
        "        'classifier__max_depth': [None, 10, 20],\n",
        "        },\n",
        "    cv = 3)\n",
        "\n",
        "\n",
        "# Feed the model\n",
        "\n",
        "X = df.drop('Quality of Sleep',axis=1)\n",
        "y = df['Quality of Sleep']\n",
        "\n",
        "grid.fit(X,y)"
      ],
      "metadata": {
        "id": "lM00Xgk_7gnA"
      },
      "execution_count": null,
      "outputs": []
    },
    {
      "cell_type": "markdown",
      "source": [
        "EXECUTE THIS CELL TO SEE YOUR SLEEP QUALITY ⏰"
      ],
      "metadata": {
        "id": "3qtG48cdg1Lg"
      }
    },
    {
      "cell_type": "code",
      "source": [
        "# Function to collect user information\n",
        "\n",
        "def get_user_input():\n",
        "\n",
        "    age = float(input(\"Age: \"))\n",
        "    sleep_duration = float(input(\"Sleep Duration (hours): \"))\n",
        "    physical_activity_level = float(input(\"Physical Activity Level (1 to 100): \"))\n",
        "    stress_level = float(input(\"Stress Level (1 to 10): \"))\n",
        "    heart_rate = float(input(\"Heart Rate (beats per minute): \"))\n",
        "    daily_steps = float(input(\"Daily Steps: \"))\n",
        "    gender = input(\"Gender: \")\n",
        "    occupation = input(\"Occupation: \")\n",
        "    sleep_disorder = input(\"Sleep Disorder (eg. Insomnia, Sleep Apnea, None, etc.): \")\n",
        "    bmi_category = input(\"BMI Category (Underweight/Normal/Overweight/Obese): \")\n",
        "    date = input(\"Date (DD/MM): \")\n",
        "\n",
        "\n",
        "    # Creating a dataset with the user's information\n",
        "\n",
        "    user_data = {\n",
        "        'Age': age,\n",
        "        'Sleep Duration': sleep_duration,\n",
        "        'Physical Activity Level': physical_activity_level,\n",
        "        'Stress Level': stress_level,\n",
        "        'Heart Rate': heart_rate,\n",
        "        'Daily Steps': daily_steps,\n",
        "        'Gender': gender,\n",
        "        'Occupation': occupation,\n",
        "        'Sleep Disorder': sleep_disorder,\n",
        "        'BMI Category': bmi_category,\n",
        "        'Date': date\n",
        "        }\n",
        "    return user_data\n",
        "\n",
        "\n",
        "# Storing the dataset to a variable\n",
        "\n",
        "user_information = pd.DataFrame([get_user_input()])\n",
        "\n",
        "\n",
        "# Predict the quality of sleep and combine it to the users dataset\n",
        "\n",
        "quality_sleep = grid.predict(user_information.drop('Date',axis = 1))\n",
        "user_dataset = pd.concat([user_information, pd.DataFrame({'Quality of Sleep': quality_sleep})], axis=1)\n",
        "\n",
        "\n",
        "# Printing the quality of sleep\n",
        "\n",
        "print(f'Your quality of sleep was: {quality_sleep}')\n",
        "\n"
      ],
      "metadata": {
        "id": "T7VXh20R665R"
      },
      "execution_count": null,
      "outputs": []
    },
    {
      "cell_type": "markdown",
      "source": [
        "EXECUTE THIS CELL TO SAVE YOUR RESULTS TO A CSV FILE 📁"
      ],
      "metadata": {
        "id": "rz80oaE4hF0P"
      }
    },
    {
      "cell_type": "code",
      "source": [
        "# Function to append the users data to an existing CSV file if it exists\n",
        "\n",
        "def save_user_data(row):\n",
        "  try:\n",
        "    df_user = pd.read_csv('sleep_dataset_user.csv')\n",
        "    df_user = pd.concat([df_user, user_dataset], ignore_index=True)\n",
        "    df_user.to_csv('sleep_dataset_user.csv', index=False)\n",
        "    print('Your data was successfully appended to the existing file.')\n",
        "\n",
        "  except FileNotFoundError:\n",
        "    print('There was no existent user file found. Make sure you have uploaded a csv file named \"sleep_dataset_user.csv\" and try again.')\n",
        "    return\n",
        "\n",
        "# Ask user whether to create a new file or append to existing one\n",
        "\n",
        "save_file = input('Do you want to save your data in a new file, or upload an existing one to add a new row?\\nType \"n\" to create a new file or \"u\" to update an existing file.\\n')\n",
        "\n",
        "\n",
        "# Save file\n",
        "\n",
        "if save_file == 'n':\n",
        "  df_user = user_dataset.to_csv('sleep_dataset_user.csv',index=False)\n",
        "  print('Your dataset was saved under the file name \"sleep_dataset_user.csv\"')\n",
        "\n",
        "\n",
        "# Update and combine file\n",
        "\n",
        "elif save_file == 'u':\n",
        "  save_user_data(user_dataset)\n"
      ],
      "metadata": {
        "id": "n93hVPoKaAnK"
      },
      "execution_count": null,
      "outputs": []
    },
    {
      "cell_type": "markdown",
      "source": [
        "EXECUTE THIS CELL TO SEE YOUR SLEEP OVER TIME ✅"
      ],
      "metadata": {
        "id": "M0QExpA-hNAv"
      }
    },
    {
      "cell_type": "code",
      "source": [
        "# Load user data\n",
        "df_user = pd.read_csv('sleep_dataset_user.csv')\n",
        "\n",
        "# Define available options for visualization\n",
        "columns_to_plot = {\n",
        "    'Quality of Sleep': 'Quality of Sleep',\n",
        "    'Sleep Duration (hours)': 'Sleep Duration',\n",
        "    'Physical Activity Level': 'Physical Activity Level',\n",
        "    'Stress Level': 'Stress Level',\n",
        "    'Heart Rate': 'Heart Rate',\n",
        "    'Daily Steps': 'Daily Steps'\n",
        "}\n",
        "\n",
        "# Function to create the plot based on selection\n",
        "def plot_sleep_data(selected_metric):\n",
        "    x = df_user['Date']\n",
        "    y = df_user[columns_to_plot[selected_metric]]\n",
        "\n",
        "    plt.figure(figsize=(10, 6))\n",
        "    plt.plot(x, y, marker='o', linestyle='-', color='teal')\n",
        "    plt.title(f'{selected_metric} over Time')\n",
        "    plt.xlabel('Date')\n",
        "    plt.ylabel(selected_metric)\n",
        "    plt.xticks(rotation=45)\n",
        "    plt.grid(True)\n",
        "    plt.tight_layout()\n",
        "    plt.show()\n",
        "\n",
        "# Create the dropdown widget\n",
        "interact(plot_sleep_data, selected_metric=widgets.Dropdown(\n",
        "    options=list(columns_to_plot.keys()),\n",
        "    description='Select metric:',\n",
        "    style={'description_width': 'initial'},\n",
        "    layout=widgets.Layout(width='50%')\n",
        "))"
      ],
      "metadata": {
        "id": "ugov-b0fdcHA"
      },
      "execution_count": null,
      "outputs": []
    }
  ]
}